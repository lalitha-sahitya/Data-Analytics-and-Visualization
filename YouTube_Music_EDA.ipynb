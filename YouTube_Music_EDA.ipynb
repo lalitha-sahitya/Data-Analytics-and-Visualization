{
  "nbformat": 4,
  "nbformat_minor": 0,
  "metadata": {
    "colab": {
      "provenance": [],
      "authorship_tag": "ABX9TyMlkO3u620Y6haWNbU6OP6u",
      "include_colab_link": true
    },
    "kernelspec": {
      "name": "python3",
      "display_name": "Python 3"
    },
    "language_info": {
      "name": "python"
    }
  },
  "cells": [
    {
      "cell_type": "markdown",
      "metadata": {
        "id": "view-in-github",
        "colab_type": "text"
      },
      "source": [
        "<a href=\"https://colab.research.google.com/github/lalitha-sahitya/Data-Analytics-and-Visualization/blob/main/YouTube_Music_EDA.ipynb\" target=\"_parent\"><img src=\"https://colab.research.google.com/assets/colab-badge.svg\" alt=\"Open In Colab\"/></a>"
      ]
    },
    {
      "cell_type": "code",
      "execution_count": null,
      "metadata": {
        "id": "nHQqwE5euJ1Q"
      },
      "outputs": [],
      "source": [
        "import os"
      ]
    },
    {
      "cell_type": "code",
      "source": [
        "!pip install opendatasets"
      ],
      "metadata": {
        "colab": {
          "base_uri": "https://localhost:8080/"
        },
        "id": "0CvvTDfbuQIL",
        "outputId": "642fc940-4210-4fe8-b77f-d68c94629224"
      },
      "execution_count": null,
      "outputs": [
        {
          "output_type": "stream",
          "name": "stdout",
          "text": [
            "Collecting opendatasets\n",
            "  Downloading opendatasets-0.1.22-py3-none-any.whl.metadata (9.2 kB)\n",
            "Requirement already satisfied: tqdm in /usr/local/lib/python3.12/dist-packages (from opendatasets) (4.67.1)\n",
            "Requirement already satisfied: kaggle in /usr/local/lib/python3.12/dist-packages (from opendatasets) (1.7.4.5)\n",
            "Requirement already satisfied: click in /usr/local/lib/python3.12/dist-packages (from opendatasets) (8.2.1)\n",
            "Requirement already satisfied: bleach in /usr/local/lib/python3.12/dist-packages (from kaggle->opendatasets) (6.2.0)\n",
            "Requirement already satisfied: certifi>=14.05.14 in /usr/local/lib/python3.12/dist-packages (from kaggle->opendatasets) (2025.8.3)\n",
            "Requirement already satisfied: charset-normalizer in /usr/local/lib/python3.12/dist-packages (from kaggle->opendatasets) (3.4.3)\n",
            "Requirement already satisfied: idna in /usr/local/lib/python3.12/dist-packages (from kaggle->opendatasets) (3.10)\n",
            "Requirement already satisfied: protobuf in /usr/local/lib/python3.12/dist-packages (from kaggle->opendatasets) (5.29.5)\n",
            "Requirement already satisfied: python-dateutil>=2.5.3 in /usr/local/lib/python3.12/dist-packages (from kaggle->opendatasets) (2.9.0.post0)\n",
            "Requirement already satisfied: python-slugify in /usr/local/lib/python3.12/dist-packages (from kaggle->opendatasets) (8.0.4)\n",
            "Requirement already satisfied: requests in /usr/local/lib/python3.12/dist-packages (from kaggle->opendatasets) (2.32.4)\n",
            "Requirement already satisfied: setuptools>=21.0.0 in /usr/local/lib/python3.12/dist-packages (from kaggle->opendatasets) (75.2.0)\n",
            "Requirement already satisfied: six>=1.10 in /usr/local/lib/python3.12/dist-packages (from kaggle->opendatasets) (1.17.0)\n",
            "Requirement already satisfied: text-unidecode in /usr/local/lib/python3.12/dist-packages (from kaggle->opendatasets) (1.3)\n",
            "Requirement already satisfied: urllib3>=1.15.1 in /usr/local/lib/python3.12/dist-packages (from kaggle->opendatasets) (2.5.0)\n",
            "Requirement already satisfied: webencodings in /usr/local/lib/python3.12/dist-packages (from kaggle->opendatasets) (0.5.1)\n",
            "Downloading opendatasets-0.1.22-py3-none-any.whl (15 kB)\n",
            "Installing collected packages: opendatasets\n",
            "Successfully installed opendatasets-0.1.22\n"
          ]
        }
      ]
    },
    {
      "cell_type": "code",
      "source": [
        "import opendatasets as od\n",
        "import pandas as pd\n",
        "import numpy as np\n",
        "import seaborn as sns\n",
        "import matplotlib.pyplot as plt"
      ],
      "metadata": {
        "id": "zQ7ZVMNZuSOB"
      },
      "execution_count": null,
      "outputs": []
    },
    {
      "cell_type": "code",
      "source": [
        "od.download('https://www.kaggle.com/datasets/ayeshasiddiqa123/top-100-trending-music-on-youtube/data')"
      ],
      "metadata": {
        "colab": {
          "base_uri": "https://localhost:8080/"
        },
        "id": "w-jqkJ2kudY_",
        "outputId": "4b4903ec-74d3-426e-96d3-f950a3e8a7f4"
      },
      "execution_count": null,
      "outputs": [
        {
          "output_type": "stream",
          "name": "stdout",
          "text": [
            "Please provide your Kaggle credentials to download this dataset. Learn more: http://bit.ly/kaggle-creds\n",
            "Your Kaggle username: k\n",
            "Your Kaggle Key: ··········\n",
            "Dataset URL: https://www.kaggle.com/datasets/ayeshasiddiqa123/top-100-trending-music-on-youtube\n",
            "Downloading top-100-trending-music-on-youtube.zip to ./top-100-trending-music-on-youtube\n"
          ]
        },
        {
          "output_type": "stream",
          "name": "stderr",
          "text": [
            "100%|██████████| 76.8k/76.8k [00:00<00:00, 187MB/s]"
          ]
        },
        {
          "output_type": "stream",
          "name": "stdout",
          "text": [
            "\n"
          ]
        },
        {
          "output_type": "stream",
          "name": "stderr",
          "text": [
            "\n"
          ]
        }
      ]
    },
    {
      "cell_type": "code",
      "source": [
        "os.listdir('/content/top-100-trending-music-on-youtube')"
      ],
      "metadata": {
        "colab": {
          "base_uri": "https://localhost:8080/"
        },
        "id": "5sj2oeaiug0H",
        "outputId": "7b52b6c0-30ed-42d0-dc29-0999bb0b56ec"
      },
      "execution_count": null,
      "outputs": [
        {
          "output_type": "execute_result",
          "data": {
            "text/plain": [
              "['youtube-top-100-songs-2025.csv']"
            ]
          },
          "metadata": {},
          "execution_count": 8
        }
      ]
    },
    {
      "cell_type": "code",
      "source": [
        "data=pd.read_csv('/content/top-100-trending-music-on-youtube/youtube-top-100-songs-2025.csv')\n",
        "data.head()"
      ],
      "metadata": {
        "colab": {
          "base_uri": "https://localhost:8080/",
          "height": 712
        },
        "id": "29NoY1lUultJ",
        "outputId": "f68a1f15-59cf-436a-8c66-bfc82e207cba"
      },
      "execution_count": null,
      "outputs": [
        {
          "output_type": "execute_result",
          "data": {
            "text/plain": [
              "                                               title  \\\n",
              "0   ROSÉ & Bruno Mars - APT. (Official Music Video)   \n",
              "1  Lady Gaga, Bruno Mars - Die With A Smile (Offi...   \n",
              "2  Reneé Rapp - Leave Me Alone (Official Music Vi...   \n",
              "3  Billie Eilish - BIRDS OF A FEATHER (Official M...   \n",
              "4            Reneé Rapp - Mad (Official Music Video)   \n",
              "\n",
              "                                           fulltitle  \\\n",
              "0   ROSÉ & Bruno Mars - APT. (Official Music Video)   \n",
              "1  Lady Gaga, Bruno Mars - Die With A Smile (Offi...   \n",
              "2  Reneé Rapp - Leave Me Alone (Official Music Vi...   \n",
              "3  Billie Eilish - BIRDS OF A FEATHER (Official M...   \n",
              "4            Reneé Rapp - Mad (Official Music Video)   \n",
              "\n",
              "                                         description  view_count categories  \\\n",
              "0  ROSÉ & Bruno Mars - APT.\\nDownload/stream: ht...  2009014557      Music   \n",
              "1  MAYHEM OUT NOW\\nhttp://ladygaga.com \\n \\nListe...  1324833300      Music   \n",
              "2  Listen to “BITE ME”, the new album from Reneé ...     2536628      Music   \n",
              "3  Listen to HIT ME HARD AND SOFT: https://billie...   558329099      Music   \n",
              "4  Listen to “BITE ME”, the new album from Reneé ...     2113548      Music   \n",
              "\n",
              "                                                tags  duration  \\\n",
              "0  YG Entertainment;YG;와이지;K-pop;BLACKPINK;블랙핑크;블...       173   \n",
              "1                Lady Gaga;Bruno Mars;Interscope;Pop       252   \n",
              "2                  Reneé Rapp;Interscope Records;Pop       160   \n",
              "3  Billie Eilish;Darkroom/Interscope Records;Alte...       231   \n",
              "4                  Reneé Rapp;Interscope Records;Pop       180   \n",
              "\n",
              "  duration_string  live_status  \\\n",
              "0            2:53        False   \n",
              "1            4:12        False   \n",
              "2            2:40        False   \n",
              "3            3:51        False   \n",
              "4            3:00        False   \n",
              "\n",
              "                                           thumbnail        channel  \\\n",
              "0  https://i.ytimg.com/vi_webp/ekr2nIex040/maxres...           ROSÉ   \n",
              "1  https://i.ytimg.com/vi/kPa7bsKwL-c/maxresdefau...      Lady Gaga   \n",
              "2  https://i.ytimg.com/vi/tiPWzFLiz4A/maxresdefau...     Reneé Rapp   \n",
              "3  https://i.ytimg.com/vi/V9PVRfjEBTI/maxresdefau...  Billie Eilish   \n",
              "4  https://i.ytimg.com/vi/xkWQM3flsiY/maxresdefau...     Reneé Rapp   \n",
              "\n",
              "                                         channel_url  channel_follower_count  \n",
              "0  https://www.youtube.com/channel/UCBo1hnzxV9rz3...                19200000  \n",
              "1  https://www.youtube.com/channel/UC07Kxew-cMIay...                29600000  \n",
              "2  https://www.youtube.com/channel/UCZy4ki_L4bzw9...                  408000  \n",
              "3  https://www.youtube.com/channel/UCDGmojLIoWpXo...                56800000  \n",
              "4  https://www.youtube.com/channel/UCZy4ki_L4bzw9...                  408000  "
            ],
            "text/html": [
              "\n",
              "  <div id=\"df-474fdd0f-b4a8-4553-a9be-e94d052947ff\" class=\"colab-df-container\">\n",
              "    <div>\n",
              "<style scoped>\n",
              "    .dataframe tbody tr th:only-of-type {\n",
              "        vertical-align: middle;\n",
              "    }\n",
              "\n",
              "    .dataframe tbody tr th {\n",
              "        vertical-align: top;\n",
              "    }\n",
              "\n",
              "    .dataframe thead th {\n",
              "        text-align: right;\n",
              "    }\n",
              "</style>\n",
              "<table border=\"1\" class=\"dataframe\">\n",
              "  <thead>\n",
              "    <tr style=\"text-align: right;\">\n",
              "      <th></th>\n",
              "      <th>title</th>\n",
              "      <th>fulltitle</th>\n",
              "      <th>description</th>\n",
              "      <th>view_count</th>\n",
              "      <th>categories</th>\n",
              "      <th>tags</th>\n",
              "      <th>duration</th>\n",
              "      <th>duration_string</th>\n",
              "      <th>live_status</th>\n",
              "      <th>thumbnail</th>\n",
              "      <th>channel</th>\n",
              "      <th>channel_url</th>\n",
              "      <th>channel_follower_count</th>\n",
              "    </tr>\n",
              "  </thead>\n",
              "  <tbody>\n",
              "    <tr>\n",
              "      <th>0</th>\n",
              "      <td>ROSÉ &amp; Bruno Mars - APT. (Official Music Video)</td>\n",
              "      <td>ROSÉ &amp; Bruno Mars - APT. (Official Music Video)</td>\n",
              "      <td>ROSÉ &amp; Bruno Mars - APT.\\nDownload/stream: ht...</td>\n",
              "      <td>2009014557</td>\n",
              "      <td>Music</td>\n",
              "      <td>YG Entertainment;YG;와이지;K-pop;BLACKPINK;블랙핑크;블...</td>\n",
              "      <td>173</td>\n",
              "      <td>2:53</td>\n",
              "      <td>False</td>\n",
              "      <td>https://i.ytimg.com/vi_webp/ekr2nIex040/maxres...</td>\n",
              "      <td>ROSÉ</td>\n",
              "      <td>https://www.youtube.com/channel/UCBo1hnzxV9rz3...</td>\n",
              "      <td>19200000</td>\n",
              "    </tr>\n",
              "    <tr>\n",
              "      <th>1</th>\n",
              "      <td>Lady Gaga, Bruno Mars - Die With A Smile (Offi...</td>\n",
              "      <td>Lady Gaga, Bruno Mars - Die With A Smile (Offi...</td>\n",
              "      <td>MAYHEM OUT NOW\\nhttp://ladygaga.com \\n \\nListe...</td>\n",
              "      <td>1324833300</td>\n",
              "      <td>Music</td>\n",
              "      <td>Lady Gaga;Bruno Mars;Interscope;Pop</td>\n",
              "      <td>252</td>\n",
              "      <td>4:12</td>\n",
              "      <td>False</td>\n",
              "      <td>https://i.ytimg.com/vi/kPa7bsKwL-c/maxresdefau...</td>\n",
              "      <td>Lady Gaga</td>\n",
              "      <td>https://www.youtube.com/channel/UC07Kxew-cMIay...</td>\n",
              "      <td>29600000</td>\n",
              "    </tr>\n",
              "    <tr>\n",
              "      <th>2</th>\n",
              "      <td>Reneé Rapp - Leave Me Alone (Official Music Vi...</td>\n",
              "      <td>Reneé Rapp - Leave Me Alone (Official Music Vi...</td>\n",
              "      <td>Listen to “BITE ME”, the new album from Reneé ...</td>\n",
              "      <td>2536628</td>\n",
              "      <td>Music</td>\n",
              "      <td>Reneé Rapp;Interscope Records;Pop</td>\n",
              "      <td>160</td>\n",
              "      <td>2:40</td>\n",
              "      <td>False</td>\n",
              "      <td>https://i.ytimg.com/vi/tiPWzFLiz4A/maxresdefau...</td>\n",
              "      <td>Reneé Rapp</td>\n",
              "      <td>https://www.youtube.com/channel/UCZy4ki_L4bzw9...</td>\n",
              "      <td>408000</td>\n",
              "    </tr>\n",
              "    <tr>\n",
              "      <th>3</th>\n",
              "      <td>Billie Eilish - BIRDS OF A FEATHER (Official M...</td>\n",
              "      <td>Billie Eilish - BIRDS OF A FEATHER (Official M...</td>\n",
              "      <td>Listen to HIT ME HARD AND SOFT: https://billie...</td>\n",
              "      <td>558329099</td>\n",
              "      <td>Music</td>\n",
              "      <td>Billie Eilish;Darkroom/Interscope Records;Alte...</td>\n",
              "      <td>231</td>\n",
              "      <td>3:51</td>\n",
              "      <td>False</td>\n",
              "      <td>https://i.ytimg.com/vi/V9PVRfjEBTI/maxresdefau...</td>\n",
              "      <td>Billie Eilish</td>\n",
              "      <td>https://www.youtube.com/channel/UCDGmojLIoWpXo...</td>\n",
              "      <td>56800000</td>\n",
              "    </tr>\n",
              "    <tr>\n",
              "      <th>4</th>\n",
              "      <td>Reneé Rapp - Mad (Official Music Video)</td>\n",
              "      <td>Reneé Rapp - Mad (Official Music Video)</td>\n",
              "      <td>Listen to “BITE ME”, the new album from Reneé ...</td>\n",
              "      <td>2113548</td>\n",
              "      <td>Music</td>\n",
              "      <td>Reneé Rapp;Interscope Records;Pop</td>\n",
              "      <td>180</td>\n",
              "      <td>3:00</td>\n",
              "      <td>False</td>\n",
              "      <td>https://i.ytimg.com/vi/xkWQM3flsiY/maxresdefau...</td>\n",
              "      <td>Reneé Rapp</td>\n",
              "      <td>https://www.youtube.com/channel/UCZy4ki_L4bzw9...</td>\n",
              "      <td>408000</td>\n",
              "    </tr>\n",
              "  </tbody>\n",
              "</table>\n",
              "</div>\n",
              "    <div class=\"colab-df-buttons\">\n",
              "\n",
              "  <div class=\"colab-df-container\">\n",
              "    <button class=\"colab-df-convert\" onclick=\"convertToInteractive('df-474fdd0f-b4a8-4553-a9be-e94d052947ff')\"\n",
              "            title=\"Convert this dataframe to an interactive table.\"\n",
              "            style=\"display:none;\">\n",
              "\n",
              "  <svg xmlns=\"http://www.w3.org/2000/svg\" height=\"24px\" viewBox=\"0 -960 960 960\">\n",
              "    <path d=\"M120-120v-720h720v720H120Zm60-500h600v-160H180v160Zm220 220h160v-160H400v160Zm0 220h160v-160H400v160ZM180-400h160v-160H180v160Zm440 0h160v-160H620v160ZM180-180h160v-160H180v160Zm440 0h160v-160H620v160Z\"/>\n",
              "  </svg>\n",
              "    </button>\n",
              "\n",
              "  <style>\n",
              "    .colab-df-container {\n",
              "      display:flex;\n",
              "      gap: 12px;\n",
              "    }\n",
              "\n",
              "    .colab-df-convert {\n",
              "      background-color: #E8F0FE;\n",
              "      border: none;\n",
              "      border-radius: 50%;\n",
              "      cursor: pointer;\n",
              "      display: none;\n",
              "      fill: #1967D2;\n",
              "      height: 32px;\n",
              "      padding: 0 0 0 0;\n",
              "      width: 32px;\n",
              "    }\n",
              "\n",
              "    .colab-df-convert:hover {\n",
              "      background-color: #E2EBFA;\n",
              "      box-shadow: 0px 1px 2px rgba(60, 64, 67, 0.3), 0px 1px 3px 1px rgba(60, 64, 67, 0.15);\n",
              "      fill: #174EA6;\n",
              "    }\n",
              "\n",
              "    .colab-df-buttons div {\n",
              "      margin-bottom: 4px;\n",
              "    }\n",
              "\n",
              "    [theme=dark] .colab-df-convert {\n",
              "      background-color: #3B4455;\n",
              "      fill: #D2E3FC;\n",
              "    }\n",
              "\n",
              "    [theme=dark] .colab-df-convert:hover {\n",
              "      background-color: #434B5C;\n",
              "      box-shadow: 0px 1px 3px 1px rgba(0, 0, 0, 0.15);\n",
              "      filter: drop-shadow(0px 1px 2px rgba(0, 0, 0, 0.3));\n",
              "      fill: #FFFFFF;\n",
              "    }\n",
              "  </style>\n",
              "\n",
              "    <script>\n",
              "      const buttonEl =\n",
              "        document.querySelector('#df-474fdd0f-b4a8-4553-a9be-e94d052947ff button.colab-df-convert');\n",
              "      buttonEl.style.display =\n",
              "        google.colab.kernel.accessAllowed ? 'block' : 'none';\n",
              "\n",
              "      async function convertToInteractive(key) {\n",
              "        const element = document.querySelector('#df-474fdd0f-b4a8-4553-a9be-e94d052947ff');\n",
              "        const dataTable =\n",
              "          await google.colab.kernel.invokeFunction('convertToInteractive',\n",
              "                                                    [key], {});\n",
              "        if (!dataTable) return;\n",
              "\n",
              "        const docLinkHtml = 'Like what you see? Visit the ' +\n",
              "          '<a target=\"_blank\" href=https://colab.research.google.com/notebooks/data_table.ipynb>data table notebook</a>'\n",
              "          + ' to learn more about interactive tables.';\n",
              "        element.innerHTML = '';\n",
              "        dataTable['output_type'] = 'display_data';\n",
              "        await google.colab.output.renderOutput(dataTable, element);\n",
              "        const docLink = document.createElement('div');\n",
              "        docLink.innerHTML = docLinkHtml;\n",
              "        element.appendChild(docLink);\n",
              "      }\n",
              "    </script>\n",
              "  </div>\n",
              "\n",
              "\n",
              "    <div id=\"df-397552ed-b222-43ce-8e2a-631efaf42946\">\n",
              "      <button class=\"colab-df-quickchart\" onclick=\"quickchart('df-397552ed-b222-43ce-8e2a-631efaf42946')\"\n",
              "                title=\"Suggest charts\"\n",
              "                style=\"display:none;\">\n",
              "\n",
              "<svg xmlns=\"http://www.w3.org/2000/svg\" height=\"24px\"viewBox=\"0 0 24 24\"\n",
              "     width=\"24px\">\n",
              "    <g>\n",
              "        <path d=\"M19 3H5c-1.1 0-2 .9-2 2v14c0 1.1.9 2 2 2h14c1.1 0 2-.9 2-2V5c0-1.1-.9-2-2-2zM9 17H7v-7h2v7zm4 0h-2V7h2v10zm4 0h-2v-4h2v4z\"/>\n",
              "    </g>\n",
              "</svg>\n",
              "      </button>\n",
              "\n",
              "<style>\n",
              "  .colab-df-quickchart {\n",
              "      --bg-color: #E8F0FE;\n",
              "      --fill-color: #1967D2;\n",
              "      --hover-bg-color: #E2EBFA;\n",
              "      --hover-fill-color: #174EA6;\n",
              "      --disabled-fill-color: #AAA;\n",
              "      --disabled-bg-color: #DDD;\n",
              "  }\n",
              "\n",
              "  [theme=dark] .colab-df-quickchart {\n",
              "      --bg-color: #3B4455;\n",
              "      --fill-color: #D2E3FC;\n",
              "      --hover-bg-color: #434B5C;\n",
              "      --hover-fill-color: #FFFFFF;\n",
              "      --disabled-bg-color: #3B4455;\n",
              "      --disabled-fill-color: #666;\n",
              "  }\n",
              "\n",
              "  .colab-df-quickchart {\n",
              "    background-color: var(--bg-color);\n",
              "    border: none;\n",
              "    border-radius: 50%;\n",
              "    cursor: pointer;\n",
              "    display: none;\n",
              "    fill: var(--fill-color);\n",
              "    height: 32px;\n",
              "    padding: 0;\n",
              "    width: 32px;\n",
              "  }\n",
              "\n",
              "  .colab-df-quickchart:hover {\n",
              "    background-color: var(--hover-bg-color);\n",
              "    box-shadow: 0 1px 2px rgba(60, 64, 67, 0.3), 0 1px 3px 1px rgba(60, 64, 67, 0.15);\n",
              "    fill: var(--button-hover-fill-color);\n",
              "  }\n",
              "\n",
              "  .colab-df-quickchart-complete:disabled,\n",
              "  .colab-df-quickchart-complete:disabled:hover {\n",
              "    background-color: var(--disabled-bg-color);\n",
              "    fill: var(--disabled-fill-color);\n",
              "    box-shadow: none;\n",
              "  }\n",
              "\n",
              "  .colab-df-spinner {\n",
              "    border: 2px solid var(--fill-color);\n",
              "    border-color: transparent;\n",
              "    border-bottom-color: var(--fill-color);\n",
              "    animation:\n",
              "      spin 1s steps(1) infinite;\n",
              "  }\n",
              "\n",
              "  @keyframes spin {\n",
              "    0% {\n",
              "      border-color: transparent;\n",
              "      border-bottom-color: var(--fill-color);\n",
              "      border-left-color: var(--fill-color);\n",
              "    }\n",
              "    20% {\n",
              "      border-color: transparent;\n",
              "      border-left-color: var(--fill-color);\n",
              "      border-top-color: var(--fill-color);\n",
              "    }\n",
              "    30% {\n",
              "      border-color: transparent;\n",
              "      border-left-color: var(--fill-color);\n",
              "      border-top-color: var(--fill-color);\n",
              "      border-right-color: var(--fill-color);\n",
              "    }\n",
              "    40% {\n",
              "      border-color: transparent;\n",
              "      border-right-color: var(--fill-color);\n",
              "      border-top-color: var(--fill-color);\n",
              "    }\n",
              "    60% {\n",
              "      border-color: transparent;\n",
              "      border-right-color: var(--fill-color);\n",
              "    }\n",
              "    80% {\n",
              "      border-color: transparent;\n",
              "      border-right-color: var(--fill-color);\n",
              "      border-bottom-color: var(--fill-color);\n",
              "    }\n",
              "    90% {\n",
              "      border-color: transparent;\n",
              "      border-bottom-color: var(--fill-color);\n",
              "    }\n",
              "  }\n",
              "</style>\n",
              "\n",
              "      <script>\n",
              "        async function quickchart(key) {\n",
              "          const quickchartButtonEl =\n",
              "            document.querySelector('#' + key + ' button');\n",
              "          quickchartButtonEl.disabled = true;  // To prevent multiple clicks.\n",
              "          quickchartButtonEl.classList.add('colab-df-spinner');\n",
              "          try {\n",
              "            const charts = await google.colab.kernel.invokeFunction(\n",
              "                'suggestCharts', [key], {});\n",
              "          } catch (error) {\n",
              "            console.error('Error during call to suggestCharts:', error);\n",
              "          }\n",
              "          quickchartButtonEl.classList.remove('colab-df-spinner');\n",
              "          quickchartButtonEl.classList.add('colab-df-quickchart-complete');\n",
              "        }\n",
              "        (() => {\n",
              "          let quickchartButtonEl =\n",
              "            document.querySelector('#df-397552ed-b222-43ce-8e2a-631efaf42946 button');\n",
              "          quickchartButtonEl.style.display =\n",
              "            google.colab.kernel.accessAllowed ? 'block' : 'none';\n",
              "        })();\n",
              "      </script>\n",
              "    </div>\n",
              "\n",
              "    </div>\n",
              "  </div>\n"
            ],
            "application/vnd.google.colaboratory.intrinsic+json": {
              "type": "dataframe",
              "variable_name": "data",
              "summary": "{\n  \"name\": \"data\",\n  \"rows\": 100,\n  \"fields\": [\n    {\n      \"column\": \"title\",\n      \"properties\": {\n        \"dtype\": \"string\",\n        \"num_unique_values\": 100,\n        \"samples\": [\n          \"Sabrina Carpenter - Busy Woman (Official Lyric Video)\",\n          \"Tate McRae - Just Keep Watching (From F1\\u00ae The Movie) (Official Video)\",\n          \"Tate McRae - It's ok I'm ok (Official Video)\"\n        ],\n        \"semantic_type\": \"\",\n        \"description\": \"\"\n      }\n    },\n    {\n      \"column\": \"fulltitle\",\n      \"properties\": {\n        \"dtype\": \"string\",\n        \"num_unique_values\": 100,\n        \"samples\": [\n          \"Sabrina Carpenter - Busy Woman (Official Lyric Video)\",\n          \"Tate McRae - Just Keep Watching (From F1\\u00ae The Movie) (Official Video)\",\n          \"Tate McRae - It's ok I'm ok (Official Video)\"\n        ],\n        \"semantic_type\": \"\",\n        \"description\": \"\"\n      }\n    },\n    {\n      \"column\": \"description\",\n      \"properties\": {\n        \"dtype\": \"string\",\n        \"num_unique_values\": 100,\n        \"samples\": [\n          \"Listen to Short n\\u2019 Sweet Deluxe, out now: https://sabrinacarpenter.lnk.to/ShortNSweetDeluxe\\nWatch all Short n\\u2019 Sweet videos here: http://SabrinaCarpenter.lnk.to/ShortnSweetVideos\\n\\nVisual by: JJ Stratford\\nLyric Animation by: Nagina Lane\\n \\nNew merch available: https://SabrinaCarpenter.lnk.to/Merch\\n\\nSubscribe to Sabrina\\u2019s channel: https://bit.ly/SCYTsubscribe\\n \\nFollow Sabrina Carpenter: https://linktr.ee/sabrinacarpenter\\nInstagram: https://www.instagram.com/sabrinacarpenter\\nFacebook: https://www.facebook.com/sabrinacarpenter\\nTwitter: https://x.com/SabrinaAnnLynn\\nTikTok:  https://www.tiktok.com/@sabrinacarpenter\\n\\nLyrics:\\nOh, hey\\nI'm so mature, collected and sensible\\nExcept when I get hit with rejection\\nTo turn me down\\nWell, that's just unethical\\nI'll turn into someone you're scared to know\\n\\nBut if you need my love\\nMy clothes are off\\nI'm coming over to your place\\nAnd if you don't need (if you don't need) my love\\nWell, I didn't want your little bitch-ass anyway\\nYeah, I'm a busy woman\\nI wouldn't let you come into my calendar any night\\nBut if you want my kisses\\nI'll be your perfect Mrs.\\n'Til the day that one of us dies\\n\\nOh, hey\\nBusy woman, all the time\\nBusy woman\\nSo much to shave and lipstick to reapply\\nMaybe for you, though, I could accommodate\\nI'm flexible\\nSo just tell me what you like\\nTantric yoga baby\\nNamaste\\nIf you don't want me\\nI'll just deem you gay\\n\\nBut if you need my love\\nMy clothes are off\\nI'm coming over to your place\\nAnd if you don't need (if you don't need) my love\\nWell, I didn't want your little bitch-ass anyway\\nYeah, I'm a busy woman\\nI wouldn't let you come into my calendar any night\\nBut if you want my kisses\\nI'll be your perfect Mrs.\\n'Til the day that one of us dies\\nBusy woman\\nAll the time\\nBusy woman\\nFor the rest of my life\\nMy openings are super tight\\nBusy woman\\nUnless you call tonight\\nNight, ooh\\n\\nBut if you need my love\\nMy clothes are off\\nI'm coming over to your place\\nAnd if you don't need (if you don't need) my love\\nWell, I didn't want your little bitch-ass anyway\\nCuz I'm a busy woman\\nI wouldn't let you come into my calendar any night\\nBut if you want my kisses\\nI'll be your perfect Mrs.\\n'Til the day that one of us dies\\n\\n#SabrinaCarpenter #BusyWoman #LyricVideo #ShortnSweetDeluxe\\n\\nMusic video by Sabrina Carpenter performing Busy Woman (Lyric Video).\\u00a9 2025 Island Records, a division of UMG Recordings, Inc.\",\n          \"Stream \\u2018Just Keep Watching\\u2019: https://f1thealbum.lnk.to/justkeepwatching \\n\\nPre-Order F1 The Album: https://f1.lnk.to/Store \\n\\nDirector - Bardia Zeinali\\nExecutive Producer - Nina Soriano\\nProduction Company - Anonymous Content\\nHead of Production - Ena Nicole Abadjian\\nProducer - Jake Agger\\nProduction Supervisor - Tori Storosh\\n1st AD - Boma Pennebaker\\nDP - Christopher Blauvelt\\nProduction Designer - Brielle Hubert\\nEdit House Modern Post\\nEditor - William Town   \\nManaging Director, Executive Producer - Charlyn Derrick \\nExecutive Producer - Christina Mansi \\nExecutive Producer, VFX and Finishing - Mike DeFilipps \\nHead of Production - Weston Ver Steeg\\nProducer - Morgan Ludwig \\nAssistant Editor - Ty Elmore   \\nAssistant Editor - Sam Bienenfeld \\nVisual Effects by White Rhino VFX \\nVFX EP - Daniel Saldivar\\nVFX Coordinator - Isabel Leon\\nBeauty work by Hush Beauty VFX \\nBeauty EP/ Supervisor - Daniel Saldivar \\nHush Producer - Brandii Requejo \\nColor House - Ethos Studio \\nColorist - Dante Pasquinelli \\nColor Assists - Annie Cater & Alexandra Makarenko\\nProducer - Nat Tereshchenko\\nHead of Production - Natasha Sattler \\nManaging Director/EP - Eliana Carranza-Pitcher \\nFounder / EP - James Drew \\nAssistant Production Supervisor - Linda Nhem\\nArt Director - Paul McCaffrey\\nArt Dept. Coordinator - Dr\\u00f6fn \\u00d6sp Snorrad\\u00f3ttir-Rozas\\nSet Decorator - Sandy Hubshman\\nCLT - Jesse Wine\\nKey Grip - Archie Ciotti\\nBG Costumer - Penelope Strintz\\nChoreography - Robbie Blue (@itsrobbiesworld_)\\nMakeup - Lilly Keys (@lilly_keys)\\nMakeup Assistant - Micaela Cleary (@micaelacleary)\\nHair - Chad Wood (@chadwoodhair)\\nHair Assistant \\u2013 Ashley Grant (@theashleygrant)\\nStyling - Chloe and Chenelle (@chloeandchenelle)\\nStyling Assistants - Alex Bullock (@alex_bullock), Yvonne Shelly (@yvonneshelly), and Justin Ramirez (@thejustinramirez)\\nNail Tech - Analysse Hernandez (@nailsxanalysse)\\nBTS - Beth Saravo (@baeth)  & Ava Lamb (@ava__lamb)\\nManagement - Full Stop Management\\n\\nFollow Tate:\\nhttps://www.instagram.com/tatemcrae/?hl=en\\nhttps://www.tiktok.com/@tatemcrae\\nhttps://x.com/tatemcrae?lang=en \\nhttps://www.youtube.com/channel/UCQh6LB206jF3JxpCDD-fp5Q \\nhttps://www.snapchat.com/add/tatemcrae1?locale=en-US \\n\\nFollow F1 The Album: \\nhttps://instagram.com/f1thealbum \\nhttps://tiktok.com/@f1thealbum \\nhttps://x.com/F1TheAlbum \\nhttps://www.facebook.com/F1TheAlbum/ \\n\\n\\n\\n#TateMcRae #F1TheAlbum #OfficialVideo\",\n          \"Tate McRae\\u2019s new album, \\u2018So Close To What\\u2019 is out now. Listen here: https://tatemcrae.lnk.to/soclosetowhat    \\nShop vinyl, CDs, cassettes and more: https://tatemcrae.lnk.to/Store     \\nThe Miss Possessive 2025 World Tour is coming to a city near you! Get tickets here at https://www.tatemcrae.com/\\n\\nFollow Tate: \\nInstagram: https://www.instagram.com/tatemcrae/         \\nTikTok: https://www.tiktok.com/@tatemcrae     \\nFacebook: https://www.facebook.com/TateMcRaeOfficial/  \\nX: https://twitter.com/tatemcrae  \\nWebsite: https://www.tatemcrae.com/\\n\\nFollow T8HQ: \\nInstagram: https://www.instagram.com/t8hq\\nTikTok: https://www.tiktok.com/@t8hq\\nYouTube: https://www.youtube.com/@T8HQ\\nThreads: https://www.threads.net/@t8hq\\n\\nLyrics: \\nSee u so excited \\nU got him locked down \\nUr moving like I did \\nBefore I found out \\nHe ain\\u2019t just a pretty faced talker \\nGood with his money \\nClose to his mother \\nUr seeing one-sided \\nU got him right now \\n\\nAnd she be like he\\u2019s so perfect \\nI be like oh, what version ?\\nAin\\u2019t nobody got me this nervous\\nOh baby I been there \\nAnd right in that same position \\nSo baby don\\u2019t get this twisted \\nNo, nothing could make me miss it\\nTake him he\\u2019s yours \\n\\nIt\\u2019s ok I\\u2019m ok\\nHad him in the 1st place \\nIt\\u2019s ok I\\u2019m ok \\nIt\\u2019s ok I\\u2019m ok \\nI don\\u2019t rlly gotta say it\\u2019s ok \\nYou can have him anyway \\nAnyway \\nYou can have him anyway \\nAnyway\\n\\nWas such a romantic \\nU got me like fuck that \\nSome months and some long flights \\nNow I can\\u2019t go near that  \\n\\nAnd she be like he\\u2019s so perfect \\nI be like oh, what version ?\\nAin\\u2019t nobody got me this nervous\\nOh baby I been there \\nAnd right in that same position \\nSo baby don\\u2019t get this twisted \\nNo, nothing could make me miss it\\nTake him he\\u2019s yours \\n\\nIt\\u2019s ok I\\u2019m ok\\nHad him in the 1st place \\nIt\\u2019s ok I\\u2019m ok \\nIt\\u2019s ok I\\u2019m ok \\nI don\\u2019t rlly gotta say it\\u2019s ok \\nYou can have him anyway \\nAnyway\\nYou can have him anyway \\nAnyway\\n\\nI don\\u2019t want him anyway, girl take him\\nI don\\u2019t want him anyway, girl take him\\nI don\\u2019t want him anyway, girl take him\\nI don\\u2019t want him\\nI don\\u2019t want him\\nI don\\u2019t want him anyway, girl take him\\nI don\\u2019t want him anyway, girl take him\\nI don\\u2019t, it\\u2019s ok, it\\u2019s ok, take him\\nI don\\u2019t want him\\nI don\\u2019t want him\\n\\nCredits: \\nDirector: Hannah Lux Davis\\nStarring: Tate McRae\\nCreative Director: Brett Alan Nelson\\nChoreographer: Sean Bankhead\\nDancers: Delaney Glazer, Stevie Dor\\u00e9, Maycee Steele, and Joya Jackson\\nPolice Officers: James Leon and Frank Nicholas Jr.\\nCreative Producer: Tatum Abbott\\nProduction Company: London Alley\\nExecutive Producers: Brandon Bonfiglio and Luga Podesta\\nLabel: RCA\\nLabel Producer: Sam Houston\\nProducer: Andrew Lerios\\nProduction Supervisor: Michael Lerios\\nProduction Coordinator: Elisabeth Makitalo \\nDirector\\u2019s Assistant: Jazz Gillies\\nDirector of Photography: Corey Waters\\nEditor: Graham Patterson\\nArtist Management: Full Stop Management\\nRCA Records: Sam Houston, Val Pensa, Molly Yorkes, Monica Seetharam, and Jen Tanner\\n1st AD: Jonas Morales\\n2nd AD: Damon Limbrick\\n2nd 2nd: Austin Tong\\n1st AC: Payam Yazdandoost \\n2nd AC: Chris Marius Jones\\nB Cam Operator: Travis Plante \\nB Cam 1st AC: Ajiri Akpolo\\nDit: Zack Marchinsky\\nVTR: Robert Morales\\nGaffer: Shaun Pratt \\nElectric: Mitch Pratt, Matt Whiteside, Dylan Pratt, Jeff Ferrington Parkhurst, Chris Fergy, Josh Day, and Matt Coleman\\nKey Grip: Chris Stalsworth \\nGrip: Gary Christie, Donnie Cardenas, Phillip Guarnotta, Eric Covarrubias, Ricky Rosales, and Collin Morrison\\nProduction Designer: Hugh Zeigler\\nSet Decorator: Christopher Coles\\nLead Person: Max Duck\\nArt Coordinator: Matt Toth\\nSet Dresser: Michael Starbird, Ryan Salisbury, Steve Ramos, Zoe Gittelson, Christopher Katus, William Manville, and Kyle Leeser\\nProp Master: Mason Reynolds\\nSpecial FX: Simon White\\nPost Supervisor: Iv\\u00e1n Ovalle\\nAssistant Editor: Chloe Scrushy and Tanner Jackson \\nColor: Matt Osborne\\nVFX: Digital Axis\\nCasting: Big Apple Casting\\nArtist Wardrobe: Brett Alan Nelson\\nMakeup Artist: Lilly Keys\\nArtist Hair: Chad Wood\\nArtist Nails: Analysse Hernandez \\nCast Wardrobe: Karla Miranda \\nCast Wardrobe Assistant: Kim Nguyen and Melissa Miranda\\nCast Key Makeup: Kenna Reef \\nCast Key Makeup Assistant: Katelyn Patty and Leslie Castle\\nCast Key Hair: Yalina Flores\\nCast Hair Assistant: Eskee Lee and Maurice Cornell\\nDirector\\u2019s Rep: Tommy LaBuda \\nProduction Assistants: Jamie Pinon, Andres Villenueva, Raymond Harper, Sebastian Bordigoni \\nMunkhbat Norovsambuu Monk, Julio Almaguer, Joey Pavone, Jackson Cook, Dion O\\u2019Joe, Orion Martin, and Travis Harrison \\nCatering: Chef\\u2019s on the Run \\n\\n#ItsokImok #TateMcRae #OfficialVideo\"\n        ],\n        \"semantic_type\": \"\",\n        \"description\": \"\"\n      }\n    },\n    {\n      \"column\": \"view_count\",\n      \"properties\": {\n        \"dtype\": \"number\",\n        \"std\": 249113166,\n        \"min\": 1161,\n        \"max\": 2009014557,\n        \"num_unique_values\": 100,\n        \"samples\": [\n          20923612,\n          36141339,\n          55388007\n        ],\n        \"semantic_type\": \"\",\n        \"description\": \"\"\n      }\n    },\n    {\n      \"column\": \"categories\",\n      \"properties\": {\n        \"dtype\": \"category\",\n        \"num_unique_values\": 2,\n        \"samples\": [\n          \"People & Blogs\",\n          \"Music\"\n        ],\n        \"semantic_type\": \"\",\n        \"description\": \"\"\n      }\n    },\n    {\n      \"column\": \"tags\",\n      \"properties\": {\n        \"dtype\": \"string\",\n        \"num_unique_values\": 76,\n        \"samples\": [\n          \"Sabrina Carpenter;Island Records;Pop\",\n          \"giveon;like want you;new artist;epic;epic records;alicia fields;garden kisses;california;long beach;tempest;like want you video;giveon video;official music video;take time;new album;new music;r&b;stuck on you;when it's all said and done;giveon lie again;lie again giveon;lie again;Heartbreak anniversary;Heartbreak anniversary giveon;Heartbreak giveon;Giveon heartbreak anniversary;Giveon lyrics;Justin Bieber;Drake;Justin Bieber giveon\"\n        ],\n        \"semantic_type\": \"\",\n        \"description\": \"\"\n      }\n    },\n    {\n      \"column\": \"duration\",\n      \"properties\": {\n        \"dtype\": \"number\",\n        \"std\": 44,\n        \"min\": 120,\n        \"max\": 354,\n        \"num_unique_values\": 69,\n        \"samples\": [\n          353,\n          173\n        ],\n        \"semantic_type\": \"\",\n        \"description\": \"\"\n      }\n    },\n    {\n      \"column\": \"duration_string\",\n      \"properties\": {\n        \"dtype\": \"object\",\n        \"num_unique_values\": 69,\n        \"samples\": [\n          \"5:53\",\n          \"2:53\"\n        ],\n        \"semantic_type\": \"\",\n        \"description\": \"\"\n      }\n    },\n    {\n      \"column\": \"live_status\",\n      \"properties\": {\n        \"dtype\": \"boolean\",\n        \"num_unique_values\": 1,\n        \"samples\": [\n          false\n        ],\n        \"semantic_type\": \"\",\n        \"description\": \"\"\n      }\n    },\n    {\n      \"column\": \"thumbnail\",\n      \"properties\": {\n        \"dtype\": \"string\",\n        \"num_unique_values\": 100,\n        \"samples\": [\n          \"https://i.ytimg.com/vi/3m6NBnqLc-g/maxresdefault.jpg\"\n        ],\n        \"semantic_type\": \"\",\n        \"description\": \"\"\n      }\n    },\n    {\n      \"column\": \"channel\",\n      \"properties\": {\n        \"dtype\": \"string\",\n        \"num_unique_values\": 65,\n        \"samples\": [\n          \"Ins\\u00e3ne Shinobi\"\n        ],\n        \"semantic_type\": \"\",\n        \"description\": \"\"\n      }\n    },\n    {\n      \"column\": \"channel_url\",\n      \"properties\": {\n        \"dtype\": \"string\",\n        \"num_unique_values\": 69,\n        \"samples\": [\n          \"https://www.youtube.com/channel/UCOhtMAg7xh8wv_wUHMgFc-Q\"\n        ],\n        \"semantic_type\": \"\",\n        \"description\": \"\"\n      }\n    },\n    {\n      \"column\": \"channel_follower_count\",\n      \"properties\": {\n        \"dtype\": \"number\",\n        \"std\": 19800383,\n        \"min\": 1,\n        \"max\": 76200000,\n        \"num_unique_values\": 65,\n        \"samples\": [\n          1200\n        ],\n        \"semantic_type\": \"\",\n        \"description\": \"\"\n      }\n    }\n  ]\n}"
            }
          },
          "metadata": {},
          "execution_count": 9
        }
      ]
    },
    {
      "cell_type": "code",
      "source": [
        "data.info()"
      ],
      "metadata": {
        "colab": {
          "base_uri": "https://localhost:8080/"
        },
        "id": "Iful7RRcuuVf",
        "outputId": "e5fd77ab-23f7-4fcc-e769-f8bfff166e3c"
      },
      "execution_count": null,
      "outputs": [
        {
          "output_type": "stream",
          "name": "stdout",
          "text": [
            "<class 'pandas.core.frame.DataFrame'>\n",
            "RangeIndex: 100 entries, 0 to 99\n",
            "Data columns (total 13 columns):\n",
            " #   Column                  Non-Null Count  Dtype \n",
            "---  ------                  --------------  ----- \n",
            " 0   title                   100 non-null    object\n",
            " 1   fulltitle               100 non-null    object\n",
            " 2   description             100 non-null    object\n",
            " 3   view_count              100 non-null    int64 \n",
            " 4   categories              100 non-null    object\n",
            " 5   tags                    85 non-null     object\n",
            " 6   duration                100 non-null    int64 \n",
            " 7   duration_string         100 non-null    object\n",
            " 8   live_status             100 non-null    bool  \n",
            " 9   thumbnail               100 non-null    object\n",
            " 10  channel                 100 non-null    object\n",
            " 11  channel_url             100 non-null    object\n",
            " 12  channel_follower_count  100 non-null    int64 \n",
            "dtypes: bool(1), int64(3), object(9)\n",
            "memory usage: 9.6+ KB\n"
          ]
        }
      ]
    },
    {
      "cell_type": "code",
      "source": [
        "data.isna().sum()"
      ],
      "metadata": {
        "colab": {
          "base_uri": "https://localhost:8080/",
          "height": 491
        },
        "id": "HLKoNb3Wuy-y",
        "outputId": "f3d60ff1-5e04-4a93-f00f-3e42ebfdb0a8"
      },
      "execution_count": null,
      "outputs": [
        {
          "output_type": "execute_result",
          "data": {
            "text/plain": [
              "title                      0\n",
              "fulltitle                  0\n",
              "description                0\n",
              "view_count                 0\n",
              "categories                 0\n",
              "tags                      15\n",
              "duration                   0\n",
              "duration_string            0\n",
              "live_status                0\n",
              "thumbnail                  0\n",
              "channel                    0\n",
              "channel_url                0\n",
              "channel_follower_count     0\n",
              "dtype: int64"
            ],
            "text/html": [
              "<div>\n",
              "<style scoped>\n",
              "    .dataframe tbody tr th:only-of-type {\n",
              "        vertical-align: middle;\n",
              "    }\n",
              "\n",
              "    .dataframe tbody tr th {\n",
              "        vertical-align: top;\n",
              "    }\n",
              "\n",
              "    .dataframe thead th {\n",
              "        text-align: right;\n",
              "    }\n",
              "</style>\n",
              "<table border=\"1\" class=\"dataframe\">\n",
              "  <thead>\n",
              "    <tr style=\"text-align: right;\">\n",
              "      <th></th>\n",
              "      <th>0</th>\n",
              "    </tr>\n",
              "  </thead>\n",
              "  <tbody>\n",
              "    <tr>\n",
              "      <th>title</th>\n",
              "      <td>0</td>\n",
              "    </tr>\n",
              "    <tr>\n",
              "      <th>fulltitle</th>\n",
              "      <td>0</td>\n",
              "    </tr>\n",
              "    <tr>\n",
              "      <th>description</th>\n",
              "      <td>0</td>\n",
              "    </tr>\n",
              "    <tr>\n",
              "      <th>view_count</th>\n",
              "      <td>0</td>\n",
              "    </tr>\n",
              "    <tr>\n",
              "      <th>categories</th>\n",
              "      <td>0</td>\n",
              "    </tr>\n",
              "    <tr>\n",
              "      <th>tags</th>\n",
              "      <td>15</td>\n",
              "    </tr>\n",
              "    <tr>\n",
              "      <th>duration</th>\n",
              "      <td>0</td>\n",
              "    </tr>\n",
              "    <tr>\n",
              "      <th>duration_string</th>\n",
              "      <td>0</td>\n",
              "    </tr>\n",
              "    <tr>\n",
              "      <th>live_status</th>\n",
              "      <td>0</td>\n",
              "    </tr>\n",
              "    <tr>\n",
              "      <th>thumbnail</th>\n",
              "      <td>0</td>\n",
              "    </tr>\n",
              "    <tr>\n",
              "      <th>channel</th>\n",
              "      <td>0</td>\n",
              "    </tr>\n",
              "    <tr>\n",
              "      <th>channel_url</th>\n",
              "      <td>0</td>\n",
              "    </tr>\n",
              "    <tr>\n",
              "      <th>channel_follower_count</th>\n",
              "      <td>0</td>\n",
              "    </tr>\n",
              "  </tbody>\n",
              "</table>\n",
              "</div><br><label><b>dtype:</b> int64</label>"
            ]
          },
          "metadata": {},
          "execution_count": 11
        }
      ]
    },
    {
      "cell_type": "code",
      "source": [
        "data.duplicated().sum()"
      ],
      "metadata": {
        "colab": {
          "base_uri": "https://localhost:8080/"
        },
        "id": "P5ZGq9-Cu0Mb",
        "outputId": "1d74f301-6205-4317-fb3d-8f1e7af3b004"
      },
      "execution_count": null,
      "outputs": [
        {
          "output_type": "execute_result",
          "data": {
            "text/plain": [
              "np.int64(0)"
            ]
          },
          "metadata": {},
          "execution_count": 12
        }
      ]
    },
    {
      "cell_type": "code",
      "source": [
        "data.nunique()"
      ],
      "metadata": {
        "colab": {
          "base_uri": "https://localhost:8080/",
          "height": 491
        },
        "id": "9kOCXyv8u5Wy",
        "outputId": "a5b8e365-1eb0-4aed-9a8b-7efa80e2ee5f"
      },
      "execution_count": null,
      "outputs": [
        {
          "output_type": "execute_result",
          "data": {
            "text/plain": [
              "title                     100\n",
              "fulltitle                 100\n",
              "description               100\n",
              "view_count                100\n",
              "categories                  2\n",
              "tags                       76\n",
              "duration                   69\n",
              "duration_string            69\n",
              "live_status                 1\n",
              "thumbnail                 100\n",
              "channel                    65\n",
              "channel_url                69\n",
              "channel_follower_count     65\n",
              "dtype: int64"
            ],
            "text/html": [
              "<div>\n",
              "<style scoped>\n",
              "    .dataframe tbody tr th:only-of-type {\n",
              "        vertical-align: middle;\n",
              "    }\n",
              "\n",
              "    .dataframe tbody tr th {\n",
              "        vertical-align: top;\n",
              "    }\n",
              "\n",
              "    .dataframe thead th {\n",
              "        text-align: right;\n",
              "    }\n",
              "</style>\n",
              "<table border=\"1\" class=\"dataframe\">\n",
              "  <thead>\n",
              "    <tr style=\"text-align: right;\">\n",
              "      <th></th>\n",
              "      <th>0</th>\n",
              "    </tr>\n",
              "  </thead>\n",
              "  <tbody>\n",
              "    <tr>\n",
              "      <th>title</th>\n",
              "      <td>100</td>\n",
              "    </tr>\n",
              "    <tr>\n",
              "      <th>fulltitle</th>\n",
              "      <td>100</td>\n",
              "    </tr>\n",
              "    <tr>\n",
              "      <th>description</th>\n",
              "      <td>100</td>\n",
              "    </tr>\n",
              "    <tr>\n",
              "      <th>view_count</th>\n",
              "      <td>100</td>\n",
              "    </tr>\n",
              "    <tr>\n",
              "      <th>categories</th>\n",
              "      <td>2</td>\n",
              "    </tr>\n",
              "    <tr>\n",
              "      <th>tags</th>\n",
              "      <td>76</td>\n",
              "    </tr>\n",
              "    <tr>\n",
              "      <th>duration</th>\n",
              "      <td>69</td>\n",
              "    </tr>\n",
              "    <tr>\n",
              "      <th>duration_string</th>\n",
              "      <td>69</td>\n",
              "    </tr>\n",
              "    <tr>\n",
              "      <th>live_status</th>\n",
              "      <td>1</td>\n",
              "    </tr>\n",
              "    <tr>\n",
              "      <th>thumbnail</th>\n",
              "      <td>100</td>\n",
              "    </tr>\n",
              "    <tr>\n",
              "      <th>channel</th>\n",
              "      <td>65</td>\n",
              "    </tr>\n",
              "    <tr>\n",
              "      <th>channel_url</th>\n",
              "      <td>69</td>\n",
              "    </tr>\n",
              "    <tr>\n",
              "      <th>channel_follower_count</th>\n",
              "      <td>65</td>\n",
              "    </tr>\n",
              "  </tbody>\n",
              "</table>\n",
              "</div><br><label><b>dtype:</b> int64</label>"
            ]
          },
          "metadata": {},
          "execution_count": 13
        }
      ]
    },
    {
      "cell_type": "code",
      "source": [
        "data.columns"
      ],
      "metadata": {
        "colab": {
          "base_uri": "https://localhost:8080/"
        },
        "id": "z_zGdyx3u7tH",
        "outputId": "ce222485-b44a-403b-a3f8-e0f6286fa3a7"
      },
      "execution_count": null,
      "outputs": [
        {
          "output_type": "execute_result",
          "data": {
            "text/plain": [
              "Index(['title', 'fulltitle', 'description', 'view_count', 'categories', 'tags',\n",
              "       'duration', 'duration_string', 'live_status', 'thumbnail', 'channel',\n",
              "       'channel_url', 'channel_follower_count'],\n",
              "      dtype='object')"
            ]
          },
          "metadata": {},
          "execution_count": 14
        }
      ]
    },
    {
      "cell_type": "code",
      "source": [
        "plt.figure(figsize=(10,6))\n",
        "sns.barplot(x='categories', y='view_count', data=data, estimator='mean')\n",
        "plt.xticks(rotation=45)\n",
        "plt.title(\"Average View Count by Category\")\n",
        "plt.show()"
      ],
      "metadata": {
        "colab": {
          "base_uri": "https://localhost:8080/",
          "height": 613
        },
        "id": "jHB9VX36vAQS",
        "outputId": "8cc5feba-42b5-46d4-af7a-0ce437a4778d"
      },
      "execution_count": null,
      "outputs": [
        {
          "output_type": "display_data",
          "data": {
            "text/plain": [
              "<Figure size 1000x600 with 1 Axes>"
            ],
            "image/png": "[encoded data removed]"
          },
          "metadata": {}
        }
      ]
    },
    {
      "cell_type": "code",
      "source": [
        "plt.figure(figsize=(8,6))\n",
        "sns.scatterplot(x='channel_follower_count', y='view_count', data=data, alpha=0.6)\n",
        "plt.title(\"Channel Followers vs View Count\")\n",
        "plt.xlabel(\"Channel Follower Count\")\n",
        "plt.ylabel(\"View Count\")\n",
        "plt.show()"
      ],
      "metadata": {
        "colab": {
          "base_uri": "https://localhost:8080/",
          "height": 564
        },
        "id": "kexlxSyfvive",
        "outputId": "1bc1141d-e2f2-40b3-eced-f47740b42077"
      },
      "execution_count": null,
      "outputs": [
        {
          "output_type": "display_data",
          "data": {
            "text/plain": [
              "<Figure size 800x600 with 1 Axes>"
            ],
            "image/png": "[encoded data removed]"
          },
          "metadata": {}
        }
      ]
    },
    {
      "cell_type": "code",
      "source": [
        "from sklearn.model_selection import train_test_split\n",
        "from sklearn.preprocessing import LabelEncoder\n",
        "from sklearn.metrics import accuracy_score\n",
        "from sklearn.linear_model import LogisticRegression\n",
        "from sklearn.tree import DecisionTreeClassifier\n",
        "from sklearn.ensemble import RandomForestClassifier, GradientBoostingClassifier\n",
        "from sklearn.svm import SVC"
      ],
      "metadata": {
        "id": "1EI8CrXjwIYO"
      },
      "execution_count": null,
      "outputs": []
    },
    {
      "cell_type": "code",
      "source": [
        "num_cols = data.select_dtypes(include=['int64', 'float64']).columns\n",
        "cat_cols = data.select_dtypes(include=['object', 'category', 'bool']).columns"
      ],
      "metadata": {
        "id": "WaUVGB2twhlT"
      },
      "execution_count": null,
      "outputs": []
    },
    {
      "cell_type": "code",
      "source": [
        "num_cols=list(num_cols)\n",
        "cat_cols=list(cat_cols)"
      ],
      "metadata": {
        "id": "UYs7l07VxM3B"
      },
      "execution_count": null,
      "outputs": []
    },
    {
      "cell_type": "code",
      "source": [
        "data['duration'].fillna(data['duration'].mean(), inplace=True)\n",
        "data['view_count'].fillna(data['view_count'].mean(), inplace=True)"
      ],
      "metadata": {
        "colab": {
          "base_uri": "https://localhost:8080/"
        },
        "id": "aUHd2iTtxNi-",
        "outputId": "014a1a58-89d1-4969-d98d-335f8889b627"
      },
      "execution_count": null,
      "outputs": [
        {
          "output_type": "stream",
          "name": "stderr",
          "text": [
            "/tmp/ipython-input-540049302.py:1: FutureWarning: A value is trying to be set on a copy of a DataFrame or Series through chained assignment using an inplace method.\n",
            "The behavior will change in pandas 3.0. This inplace method will never work because the intermediate object on which we are setting values always behaves as a copy.\n",
            "\n",
            "For example, when doing 'df[col].method(value, inplace=True)', try using 'df.method({col: value}, inplace=True)' or df[col] = df[col].method(value) instead, to perform the operation inplace on the original object.\n",
            "\n",
            "\n",
            "  data['duration'].fillna(data['duration'].mean(), inplace=True)\n",
            "/tmp/ipython-input-540049302.py:2: FutureWarning: A value is trying to be set on a copy of a DataFrame or Series through chained assignment using an inplace method.\n",
            "The behavior will change in pandas 3.0. This inplace method will never work because the intermediate object on which we are setting values always behaves as a copy.\n",
            "\n",
            "For example, when doing 'df[col].method(value, inplace=True)', try using 'df.method({col: value}, inplace=True)' or df[col] = df[col].method(value) instead, to perform the operation inplace on the original object.\n",
            "\n",
            "\n",
            "  data['view_count'].fillna(data['view_count'].mean(), inplace=True)\n"
          ]
        }
      ]
    },
    {
      "cell_type": "code",
      "source": [
        "l_dict={}\n",
        "l=LabelEncoder()\n",
        "for i in cat_cols:\n",
        "  data[i]=data[i].astype(str)\n",
        "  data[i]=l.fit_transform(data[i])\n",
        "  l_dict[i]=l\n"
      ],
      "metadata": {
        "id": "DdtBnUwWxYQ6"
      },
      "execution_count": null,
      "outputs": []
    },
    {
      "cell_type": "code",
      "source": [
        "x=data[num_cols+cat_cols]\n",
        "y=data['categories']"
      ],
      "metadata": {
        "id": "ZMznFqgaxvR9"
      },
      "execution_count": null,
      "outputs": []
    },
    {
      "cell_type": "code",
      "source": [
        "X_train, X_test, y_train, y_test = train_test_split(x, y, test_size=0.2, random_state=42)"
      ],
      "metadata": {
        "id": "fOeigb9Zx0SL"
      },
      "execution_count": null,
      "outputs": []
    },
    {
      "cell_type": "code",
      "source": [
        "models = {\n",
        "    'Logistic Regression': LogisticRegression(max_iter=1000),\n",
        "    'Decision Tree': DecisionTreeClassifier(),\n",
        "    'Random Forest': RandomForestClassifier(),\n",
        "    'Gradient Boosting': GradientBoostingClassifier(),\n",
        "    'SVM': SVC()\n",
        "}\n",
        "\n",
        "accuracy_dict = {}"
      ],
      "metadata": {
        "id": "78Rfh0kyx5Ef"
      },
      "execution_count": null,
      "outputs": []
    },
    {
      "cell_type": "code",
      "source": [
        "for name, model in models.items():\n",
        "    model.fit(X_train, y_train)\n",
        "    y_pred = model.predict(X_test)\n",
        "    acc = accuracy_score(y_test, y_pred) * 100\n",
        "    accuracy_dict[name] = acc\n",
        "    print(f\"{name} Accuracy: {acc:.2f}%\")"
      ],
      "metadata": {
        "colab": {
          "base_uri": "https://localhost:8080/"
        },
        "id": "OnrnAbzXx7RV",
        "outputId": "62dbf9d3-91da-458b-f47a-a8e4e52e3454"
      },
      "execution_count": null,
      "outputs": [
        {
          "output_type": "stream",
          "name": "stdout",
          "text": [
            "Logistic Regression Accuracy: 85.00%\n",
            "Decision Tree Accuracy: 100.00%\n",
            "Random Forest Accuracy: 90.00%\n",
            "Gradient Boosting Accuracy: 100.00%\n",
            "SVM Accuracy: 90.00%\n"
          ]
        }
      ]
    },
    {
      "cell_type": "code",
      "source": [
        "plt.figure(figsize=(10,6))\n",
        "sns.barplot(x=list(accuracy_dict.keys()), y=list(accuracy_dict.values()), palette='coolwarm')\n",
        "plt.ylabel('Accuracy (%)')\n",
        "plt.ylim(0, 100)\n",
        "plt.title('ML Algorithm Accuracy Comparison')\n",
        "plt.xticks(rotation=45)\n",
        "plt.show()"
      ],
      "metadata": {
        "colab": {
          "base_uri": "https://localhost:8080/",
          "height": 719
        },
        "id": "fLDRwi3ex9oE",
        "outputId": "09d8c28d-ff02-4036-cf72-608e85011779"
      },
      "execution_count": null,
      "outputs": [
        {
          "output_type": "stream",
          "name": "stderr",
          "text": [
            "/tmp/ipython-input-1346008203.py:2: FutureWarning: \n",
            "\n",
            "Passing `palette` without assigning `hue` is deprecated and will be removed in v0.14.0. Assign the `x` variable to `hue` and set `legend=False` for the same effect.\n",
            "\n",
            "  sns.barplot(x=list(accuracy_dict.keys()), y=list(accuracy_dict.values()), palette='coolwarm')\n"
          ]
        },
        {
          "output_type": "display_data",
          "data": {
            "text/plain": [
              "<Figure size 1000x600 with 1 Axes>"
            ],
            "image/png": "[encoded data removed]"
          },
          "metadata": {}
        }
      ]
    }
  ]
}